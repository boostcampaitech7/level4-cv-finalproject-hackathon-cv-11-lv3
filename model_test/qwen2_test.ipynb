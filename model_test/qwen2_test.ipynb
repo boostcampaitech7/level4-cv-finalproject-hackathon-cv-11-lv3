{
 "cells": [
  {
   "cell_type": "code",
   "execution_count": 15,
   "metadata": {},
   "outputs": [],
   "source": [
    "import tensorflow as tf\n",
    "import json\n",
    "\n",
    "def parse_tfrecord_to_json(tfrecord_path, output_json_path):\n",
    "    # TFRecord 데이터셋 읽기\n",
    "    raw_dataset = tf.data.TFRecordDataset(tfrecord_path)\n",
    "\n",
    "    parsed_records = []\n",
    "\n",
    "    for raw_record in raw_dataset:\n",
    "        # TFRecord를 tf.train.SequenceExample로 디코딩\n",
    "        sequence_example = tf.train.SequenceExample()\n",
    "        sequence_example.ParseFromString(raw_record.numpy())\n",
    "\n",
    "        # Context 데이터를 추출\n",
    "        context_features = {\n",
    "            key: feature.bytes_list.value[0].decode(\"utf-8\")\n",
    "            if feature.HasField(\"bytes_list\")\n",
    "            else feature.int64_list.value[0]\n",
    "            for key, feature in sequence_example.context.feature.items()\n",
    "        }\n",
    "\n",
    "        # Feature_lists 데이터 추출\n",
    "        feature_lists = {}\n",
    "        for key, feature_list in sequence_example.feature_lists.feature_list.items():\n",
    "            feature_values = []\n",
    "            for feature in feature_list.feature:\n",
    "                if feature.HasField(\"bytes_list\"):\n",
    "                    # bytes_list 데이터를 숫자로 변환 (uint8로 가정)\n",
    "                    decoded_values = list(feature.bytes_list.value[0])  # 바이너리 그대로 처리\n",
    "                    feature_values.append(decoded_values)\n",
    "                elif feature.HasField(\"float_list\"):\n",
    "                    feature_values.append(list(feature.float_list.value))\n",
    "                elif feature.HasField(\"int64_list\"):\n",
    "                    feature_values.append(list(feature.int64_list.value))\n",
    "            feature_lists[key] = feature_values\n",
    "\n",
    "        # 데이터를 합쳐 저장\n",
    "        parsed_record = {\n",
    "            \"context\": context_features,\n",
    "            \"feature_lists\": feature_lists,\n",
    "        }\n",
    "        parsed_records.append(parsed_record)\n",
    "\n",
    "    # JSON 파일로 저장\n",
    "    with open(output_json_path, \"w\", encoding=\"utf-8\") as json_file:\n",
    "        json.dump(parsed_records, json_file, ensure_ascii=False, indent=4)\n",
    "\n",
    "    print(f\"TFRecord가 JSON으로 변환되어 저장되었습니다: {output_json_path}\")"
   ]
  },
  {
   "cell_type": "code",
   "execution_count": 16,
   "metadata": {},
   "outputs": [
    {
     "name": "stderr",
     "output_type": "stream",
     "text": [
      "2025-01-14 15:48:31.603747: I tensorflow/core/framework/local_rendezvous.cc:405] Local rendezvous is aborting with status: OUT_OF_RANGE: End of sequence\n"
     ]
    },
    {
     "name": "stdout",
     "output_type": "stream",
     "text": [
      "TFRecord가 JSON으로 변환되어 저장되었습니다: train0580frame.json\n"
     ]
    }
   ],
   "source": [
    "parse_tfrecord_to_json(\"/data/ephemeral/home/train0580frame.tfrecord\", \"train0580frame.json\")"
   ]
  }
 ],
 "metadata": {
  "kernelspec": {
   "display_name": "base",
   "language": "python",
   "name": "python3"
  },
  "language_info": {
   "codemirror_mode": {
    "name": "ipython",
    "version": 3
   },
   "file_extension": ".py",
   "mimetype": "text/x-python",
   "name": "python",
   "nbconvert_exporter": "python",
   "pygments_lexer": "ipython3",
   "version": "3.10.13"
  }
 },
 "nbformat": 4,
 "nbformat_minor": 2
}
