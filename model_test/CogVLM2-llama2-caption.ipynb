{
 "cells": [
  {
   "cell_type": "code",
   "execution_count": 1,
   "metadata": {},
   "outputs": [],
   "source": [
    "import io\n",
    "\n",
    "import argparse\n",
    "import numpy as np\n",
    "import torch\n",
    "from decord import cpu, VideoReader, bridge\n",
    "from transformers import AutoModelForCausalLM, AutoTokenizer"
   ]
  },
  {
   "cell_type": "code",
   "execution_count": 2,
   "metadata": {},
   "outputs": [],
   "source": [
    "MODEL_PATH = \"THUDM/cogvlm2-llama3-caption\"\n",
    "\n",
    "DEVICE = 'cuda' if torch.cuda.is_available() else 'cpu'\n",
    "TORCH_TYPE = torch.bfloat16 if torch.cuda.is_available() and torch.cuda.get_device_capability()[\n",
    "    0] >= 8 else torch.float16\n",
    "\n",
    "args = [8]"
   ]
  },
  {
   "cell_type": "code",
   "execution_count": 3,
   "metadata": {},
   "outputs": [],
   "source": [
    "def load_video(video_data, strategy='chat'):\n",
    "    bridge.set_bridge('torch')\n",
    "    mp4_stream = video_data\n",
    "    num_frames = 24\n",
    "    decord_vr = VideoReader(io.BytesIO(mp4_stream), ctx=cpu(0))\n",
    "\n",
    "    frame_id_list = None\n",
    "    total_frames = len(decord_vr)\n",
    "    if strategy == 'base':\n",
    "        clip_end_sec = 60\n",
    "        clip_start_sec = 0\n",
    "        start_frame = int(clip_start_sec * decord_vr.get_avg_fps())\n",
    "        end_frame = min(total_frames,\n",
    "                        int(clip_end_sec * decord_vr.get_avg_fps())) if clip_end_sec is not None else total_frames\n",
    "        frame_id_list = np.linspace(start_frame, end_frame - 1, num_frames, dtype=int)\n",
    "    elif strategy == 'chat':\n",
    "        timestamps = decord_vr.get_frame_timestamp(np.arange(total_frames))\n",
    "        timestamps = [i[0] for i in timestamps]\n",
    "        max_second = round(max(timestamps)) + 1\n",
    "        frame_id_list = []\n",
    "        for second in range(max_second):\n",
    "            closest_num = min(timestamps, key=lambda x: abs(x - second))\n",
    "            index = timestamps.index(closest_num)\n",
    "            frame_id_list.append(index)\n",
    "            if len(frame_id_list) >= num_frames:\n",
    "                break\n",
    "\n",
    "    video_data = decord_vr.get_batch(frame_id_list)\n",
    "    video_data = video_data.permute(3, 0, 1, 2)\n",
    "    return video_data"
   ]
  },
  {
   "cell_type": "code",
   "execution_count": 5,
   "metadata": {},
   "outputs": [
    {
     "name": "stderr",
     "output_type": "stream",
     "text": [
      "Special tokens have been added in the vocabulary, make sure the associated word embeddings are fine-tuned or trained.\n"
     ]
    },
    {
     "data": {
      "application/vnd.jupyter.widget-view+json": {
       "model_id": "cd43658a515e4c0aa41c334a3a55f350",
       "version_major": 2,
       "version_minor": 0
      },
      "text/plain": [
       "util.py:   0%|          | 0.00/18.6k [00:00<?, ?B/s]"
      ]
     },
     "metadata": {},
     "output_type": "display_data"
    },
    {
     "name": "stderr",
     "output_type": "stream",
     "text": [
      "A new version of the following files was downloaded from https://huggingface.co/THUDM/cogvlm2-llama3-caption:\n",
      "- util.py\n",
      ". Make sure to double-check they do not contain any added malicious code. To avoid downloading new versions of the code file, you can pin a revision.\n"
     ]
    },
    {
     "data": {
      "application/vnd.jupyter.widget-view+json": {
       "model_id": "e1faac648087493b8627b0394a6b7af1",
       "version_major": 2,
       "version_minor": 0
      },
      "text/plain": [
       "visual.py:   0%|          | 0.00/7.52k [00:00<?, ?B/s]"
      ]
     },
     "metadata": {},
     "output_type": "display_data"
    },
    {
     "name": "stderr",
     "output_type": "stream",
     "text": [
      "A new version of the following files was downloaded from https://huggingface.co/THUDM/cogvlm2-llama3-caption:\n",
      "- visual.py\n",
      ". Make sure to double-check they do not contain any added malicious code. To avoid downloading new versions of the code file, you can pin a revision.\n",
      "A new version of the following files was downloaded from https://huggingface.co/THUDM/cogvlm2-llama3-caption:\n",
      "- util.py\n",
      "- visual.py\n",
      ". Make sure to double-check they do not contain any added malicious code. To avoid downloading new versions of the code file, you can pin a revision.\n",
      "/opt/conda/lib/python3.10/site-packages/torchvision/transforms/_functional_video.py:6: UserWarning: The 'torchvision.transforms._functional_video' module is deprecated since 0.12 and will be removed in the future. Please use the 'torchvision.transforms.functional' module instead.\n",
      "  warnings.warn(\n",
      "/opt/conda/lib/python3.10/site-packages/torchvision/transforms/_transforms_video.py:22: UserWarning: The 'torchvision.transforms._transforms_video' module is deprecated since 0.12 and will be removed in the future. Please use the 'torchvision.transforms' module instead.\n",
      "  warnings.warn(\n",
      "/opt/conda/lib/python3.10/site-packages/torchvision/transforms/functional_tensor.py:5: UserWarning: The torchvision.transforms.functional_tensor module is deprecated in 0.15 and will be **removed in 0.17**. Please don't rely on it. You probably just need to use APIs in torchvision.transforms.functional or in torchvision.transforms.v2.functional.\n",
      "  warnings.warn(\n"
     ]
    },
    {
     "data": {
      "application/vnd.jupyter.widget-view+json": {
       "model_id": "7983deb998eb4b9681b875e8f72dac34",
       "version_major": 2,
       "version_minor": 0
      },
      "text/plain": [
       "model.safetensors.index.json:   0%|          | 0.00/101k [00:00<?, ?B/s]"
      ]
     },
     "metadata": {},
     "output_type": "display_data"
    },
    {
     "data": {
      "application/vnd.jupyter.widget-view+json": {
       "model_id": "fe09b41778f34817935c293e3813715b",
       "version_major": 2,
       "version_minor": 0
      },
      "text/plain": [
       "Downloading shards:   0%|          | 0/6 [00:00<?, ?it/s]"
      ]
     },
     "metadata": {},
     "output_type": "display_data"
    },
    {
     "data": {
      "application/vnd.jupyter.widget-view+json": {
       "model_id": "cc0ae829d6fb475a8a8328a3c3196c3e",
       "version_major": 2,
       "version_minor": 0
      },
      "text/plain": [
       "model-00001-of-00006.safetensors:   0%|          | 0.00/4.98G [00:00<?, ?B/s]"
      ]
     },
     "metadata": {},
     "output_type": "display_data"
    },
    {
     "data": {
      "application/vnd.jupyter.widget-view+json": {
       "model_id": "e118cb16941c461089538755f78832fe",
       "version_major": 2,
       "version_minor": 0
      },
      "text/plain": [
       "model-00002-of-00006.safetensors:   0%|          | 0.00/5.00G [00:00<?, ?B/s]"
      ]
     },
     "metadata": {},
     "output_type": "display_data"
    },
    {
     "data": {
      "application/vnd.jupyter.widget-view+json": {
       "model_id": "aa9c9fd5b00b4738948c8827c60fc93c",
       "version_major": 2,
       "version_minor": 0
      },
      "text/plain": [
       "model-00003-of-00006.safetensors:   0%|          | 0.00/4.92G [00:00<?, ?B/s]"
      ]
     },
     "metadata": {},
     "output_type": "display_data"
    },
    {
     "data": {
      "application/vnd.jupyter.widget-view+json": {
       "model_id": "b23a0a67bb6643f3b409cc1a5930cd1b",
       "version_major": 2,
       "version_minor": 0
      },
      "text/plain": [
       "model-00004-of-00006.safetensors:   0%|          | 0.00/4.96G [00:00<?, ?B/s]"
      ]
     },
     "metadata": {},
     "output_type": "display_data"
    },
    {
     "data": {
      "application/vnd.jupyter.widget-view+json": {
       "model_id": "1c389ae68c5740a3b6d91cdcf614aea9",
       "version_major": 2,
       "version_minor": 0
      },
      "text/plain": [
       "model-00005-of-00006.safetensors:   0%|          | 0.00/4.12G [00:00<?, ?B/s]"
      ]
     },
     "metadata": {},
     "output_type": "display_data"
    },
    {
     "data": {
      "application/vnd.jupyter.widget-view+json": {
       "model_id": "ab11927606b74db7bc568ad33cc9aa3d",
       "version_major": 2,
       "version_minor": 0
      },
      "text/plain": [
       "model-00006-of-00006.safetensors:   0%|          | 0.00/1.05G [00:00<?, ?B/s]"
      ]
     },
     "metadata": {},
     "output_type": "display_data"
    },
    {
     "data": {
      "application/vnd.jupyter.widget-view+json": {
       "model_id": "691b33fa4aa64ebd952f7d73494779af",
       "version_major": 2,
       "version_minor": 0
      },
      "text/plain": [
       "Loading checkpoint shards:   0%|          | 0/6 [00:00<?, ?it/s]"
      ]
     },
     "metadata": {},
     "output_type": "display_data"
    },
    {
     "data": {
      "application/vnd.jupyter.widget-view+json": {
       "model_id": "746b16a3d0dc48deb883388ef9199ac3",
       "version_major": 2,
       "version_minor": 0
      },
      "text/plain": [
       "generation_config.json:   0%|          | 0.00/212 [00:00<?, ?B/s]"
      ]
     },
     "metadata": {},
     "output_type": "display_data"
    }
   ],
   "source": [
    "tokenizer = AutoTokenizer.from_pretrained(\n",
    "    MODEL_PATH,\n",
    "    trust_remote_code=True,\n",
    ")\n",
    "\n",
    "model = AutoModelForCausalLM.from_pretrained(\n",
    "    MODEL_PATH,\n",
    "    torch_dtype=TORCH_TYPE,\n",
    "    trust_remote_code=True\n",
    ").eval().to(DEVICE)"
   ]
  },
  {
   "cell_type": "code",
   "execution_count": 6,
   "metadata": {},
   "outputs": [],
   "source": [
    "def predict(prompt, video_data, temperature):\n",
    "    strategy = 'chat'\n",
    "\n",
    "    video = load_video(video_data, strategy=strategy)\n",
    "\n",
    "    history = []\n",
    "    query = prompt\n",
    "    inputs = model.build_conversation_input_ids(\n",
    "        tokenizer=tokenizer,\n",
    "        query=query,\n",
    "        images=[video],\n",
    "        history=history,\n",
    "        template_version=strategy\n",
    "    )\n",
    "    inputs = {\n",
    "        'input_ids': inputs['input_ids'].unsqueeze(0).to('cuda'),\n",
    "        'token_type_ids': inputs['token_type_ids'].unsqueeze(0).to('cuda'),\n",
    "        'attention_mask': inputs['attention_mask'].unsqueeze(0).to('cuda'),\n",
    "        'images': [[inputs['images'][0].to('cuda').to(TORCH_TYPE)]],\n",
    "    }\n",
    "    gen_kwargs = {\n",
    "        \"max_new_tokens\": 2048,\n",
    "        \"pad_token_id\": 128002,\n",
    "        \"top_k\": 1,\n",
    "        \"do_sample\": False,\n",
    "        \"top_p\": 0.1,\n",
    "        \"temperature\": temperature,\n",
    "    }\n",
    "    with torch.no_grad():\n",
    "        outputs = model.generate(**inputs, **gen_kwargs)\n",
    "        outputs = outputs[:, inputs['input_ids'].shape[1]:]\n",
    "        response = tokenizer.decode(outputs[0], skip_special_tokens=True)\n",
    "        return response"
   ]
  },
  {
   "cell_type": "code",
   "execution_count": 42,
   "metadata": {},
   "outputs": [],
   "source": [
    "def test():\n",
    "    prompt = \"Describe the video in detail.\"\n",
    "    temperature = 0.1\n",
    "    video_data = open('/data/ephemeral/home/test/MovieclipsAlfie (28) Movie CLIP - Playing with Lonette (2004) HD-rBZQHST6BQQ.mp4', 'rb').read()\n",
    "    response = predict(prompt, video_data, temperature)\n",
    "    print(response)"
   ]
  },
  {
   "cell_type": "code",
   "execution_count": 43,
   "metadata": {},
   "outputs": [
    {
     "name": "stdout",
     "output_type": "stream",
     "text": [
      " A man with short blond hair, wearing a dark jacket over a white shirt, is seen in various states of contemplation and conversation in a dimly lit indoor setting, possibly a bar or lounge. His expressions range from deep thought to surprise and earnest engagement. A woman with curly hair, dressed in a black top, appears in several scenes, her expressions shifting from joy to contemplation. The ambiance is intimate, with warm lighting and a starburst decoration adding to the cozy atmosphere. The presence of a watermark suggests these moments are from a television show or movie.\n"
     ]
    }
   ],
   "source": [
    "test()"
   ]
  },
  {
   "cell_type": "code",
   "execution_count": null,
   "metadata": {},
   "outputs": [],
   "source": []
  }
 ],
 "metadata": {
  "kernelspec": {
   "display_name": "base",
   "language": "python",
   "name": "python3"
  },
  "language_info": {
   "codemirror_mode": {
    "name": "ipython",
    "version": 3
   },
   "file_extension": ".py",
   "mimetype": "text/x-python",
   "name": "python",
   "nbconvert_exporter": "python",
   "pygments_lexer": "ipython3",
   "version": "3.10.13"
  }
 },
 "nbformat": 4,
 "nbformat_minor": 2
}
