{
 "cells": [
  {
   "cell_type": "code",
   "execution_count": null,
   "metadata": {},
   "outputs": [],
   "source": [
    "from decord import VideoReader, cpu\n",
    "from transformers import VideoMAEImageProcessor, AutoModel, AutoConfig\n",
    "import numpy as np\n",
    "import torch"
   ]
  },
  {
   "cell_type": "code",
   "execution_count": null,
   "metadata": {},
   "outputs": [],
   "source": [
    "config = AutoConfig.from_pretrained(\"OpenGVLab/VideoMAEv2-giant\", trust_remote_code=True)\n",
    "processor = VideoMAEImageProcessor.from_pretrained(\"OpenGVLab/VideoMAEv2-giant\")\n",
    "model = AutoModel.from_pretrained(\"OpenGVLab/VideoMAEv2-giant\", config=config, trust_remote_code=True)"
   ]
  },
  {
   "cell_type": "code",
   "execution_count": null,
   "metadata": {},
   "outputs": [],
   "source": [
    "video_path = \"/data/ephemeral/home/MovieclipsAkeelah and the Bee (59) Movie CLIP - Big Words Come From Little Words (2006) HD-_UZxXUwQX84.mp4\"  # 비디오 파일 경로\n",
    "vr = VideoReader(video_path, ctx=cpu(0))"
   ]
  },
  {
   "cell_type": "code",
   "execution_count": null,
   "metadata": {},
   "outputs": [],
   "source": [
    "num_frames = 32\n",
    "frame_indices = np.linspace(0, len(vr) - 1, num_frames, dtype=int)\n",
    "frames = vr.get_batch(frame_indices).asnumpy()"
   ]
  },
  {
   "cell_type": "code",
   "execution_count": null,
   "metadata": {},
   "outputs": [],
   "source": [
    "frames = [frame.transpose(2, 0, 1) for frame in frames]  # (H, W, C) -> (C, H, W)\n",
    "inputs = processor(list(frames), return_tensors=\"pt\")\n",
    "inputs['pixel_values'] = inputs['pixel_values'].permute(0, 2, 1, 3, 4)  # B, T, C, H, W -> B, C, T, H, W"
   ]
  },
  {
   "cell_type": "code",
   "execution_count": null,
   "metadata": {},
   "outputs": [],
   "source": [
    "with torch.no_grad():\n",
    "    outputs = model(**inputs)\n",
    "\n",
    "# 출력 확인\n",
    "print(outputs)"
   ]
  }
 ],
 "metadata": {
  "language_info": {
   "name": "python"
  }
 },
 "nbformat": 4,
 "nbformat_minor": 2
}
